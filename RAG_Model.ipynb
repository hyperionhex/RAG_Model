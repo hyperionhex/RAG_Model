{
  "nbformat": 4,
  "nbformat_minor": 0,
  "metadata": {
    "colab": {
      "provenance": [],
      "include_colab_link": true
    },
    "kernelspec": {
      "name": "python3",
      "display_name": "Python 3"
    },
    "language_info": {
      "name": "python"
    }
  },
  "cells": [
    {
      "cell_type": "markdown",
      "metadata": {
        "id": "view-in-github",
        "colab_type": "text"
      },
      "source": [
        "<a href=\"https://colab.research.google.com/github/hyperionhex/RAG_Model/blob/main/RAG_Model.ipynb\" target=\"_parent\"><img src=\"https://colab.research.google.com/assets/colab-badge.svg\" alt=\"Open In Colab\"/></a>"
      ]
    },
    {
      "cell_type": "markdown",
      "metadata": {
        "id": "dQRA1HWOJYbU"
      },
      "source": [
        "\n",
        "# Retrieval Augmentation\n"
      ]
    },
    {
      "cell_type": "code",
      "execution_count": null,
      "metadata": {
        "id": "0_4wHAWtmAvJ"
      },
      "outputs": [],
      "source": [
        "!pip install -qU \\\n",
        "  langchain==0.0.162 \\\n",
        "  openai==0.27.7 \\\n",
        "  tiktoken==0.4.0 \\\n",
        "  \"pinecone-client[grpc]\"==2.2.1 \\\n",
        "  pinecone_datasets=='0.5.0rc10'"
      ]
    },
    {
      "cell_type": "markdown",
      "source": [
        "#Building the Knowledge Base"
      ],
      "metadata": {
        "id": "VSvaTuBZe98P"
      }
    },
    {
      "cell_type": "code",
      "execution_count": null,
      "metadata": {
        "id": "LeAmSrjvKJrV"
      },
      "outputs": [],
      "source": [
        "import pinecone_datasets\n",
        "\n",
        "dataset = pinecone_datasets.load_dataset('wikipedia-simple-text-embedding-ada-002-100K')\n",
        "dataset.head()"
      ]
    },
    {
      "cell_type": "code",
      "source": [
        "len(dataset)"
      ],
      "metadata": {
        "colab": {
          "base_uri": "https://localhost:8080/"
        },
        "id": "Kl6JjF7RSxZO",
        "outputId": "715c826b-e4c5-406f-d9eb-278d192a7f8a"
      },
      "execution_count": null,
      "outputs": [
        {
          "output_type": "execute_result",
          "data": {
            "text/plain": [
              "100000"
            ]
          },
          "metadata": {},
          "execution_count": 3
        }
      ]
    },
    {
      "cell_type": "code",
      "execution_count": null,
      "metadata": {
        "id": "bmUgxFlQK1Ow",
        "colab": {
          "base_uri": "https://localhost:8080/"
        },
        "outputId": "b0740512-866e-48d2-e6a9-f14ffa36101c"
      },
      "outputs": [
        {
          "output_type": "execute_result",
          "data": {
            "text/plain": [
              "30000"
            ]
          },
          "metadata": {},
          "execution_count": 4
        }
      ],
      "source": [
        "dataset.documents.drop(['metadata'], axis=1, inplace=True)\n",
        "dataset.documents.rename(columns={'blob': 'metadata'}, inplace=True)\n",
        "dataset.documents.drop(dataset.documents.index[30_000:], inplace=True)\n",
        "len(dataset)"
      ]
    },
    {
      "cell_type": "markdown",
      "source": [
        "#Vector Database"
      ],
      "metadata": {
        "id": "x41D1KlWfTcp"
      }
    },
    {
      "cell_type": "code",
      "execution_count": null,
      "metadata": {
        "tags": [
          "parameters"
        ],
        "id": "sRUPLo2FRyK0"
      },
      "outputs": [],
      "source": [
        "index_name = 'canopy--document-uploader'"
      ]
    },
    {
      "cell_type": "code",
      "execution_count": null,
      "metadata": {
        "id": "9pT9C4nW4vwo"
      },
      "outputs": [],
      "source": [
        "import os\n",
        "import pinecone\n",
        "\n",
        "# pinecone api\n",
        "PINECONE_API_KEY = os.getenv('PINECONE_API_KEY') or 'YOUR_API_KEY'\n",
        "# pinecone env\n",
        "PINECONE_ENVIRONMENT = os.getenv('PINECONE_ENVIRONMENT') or 'gcp-starter'\n",
        "\n",
        "pinecone.init(\n",
        "    api_key=PINECONE_API_KEY,\n",
        "    environment=PINECONE_ENVIRONMENT\n",
        ")\n",
        "\n",
        "if index_name not in pinecone.list_indexes():\n",
        "    # new index\n",
        "    pinecone.create_index(\n",
        "        name=index_name,\n",
        "        metric='cosine',\n",
        "        dimension=1536,  # 1536 dim of text-embedding-ada-002\n",
        "    )"
      ]
    },
    {
      "cell_type": "markdown",
      "source": [
        "We Need to Connect to the index"
      ],
      "metadata": {
        "id": "P-pp_BEVfmpO"
      }
    },
    {
      "cell_type": "code",
      "execution_count": null,
      "metadata": {
        "id": "RFydARw4EcoQ",
        "colab": {
          "base_uri": "https://localhost:8080/"
        },
        "outputId": "842d920c-0a35-4eb2-9688-33082263ea23"
      },
      "outputs": [
        {
          "output_type": "execute_result",
          "data": {
            "text/plain": [
              "{'dimension': 1536,\n",
              " 'index_fullness': 0.30137,\n",
              " 'namespaces': {'': {'vector_count': 30137}},\n",
              " 'total_vector_count': 30137}"
            ]
          },
          "metadata": {},
          "execution_count": 7
        }
      ],
      "source": [
        "import time\n",
        "\n",
        "index = pinecone.GRPCIndex(index_name)\n",
        "time.sleep(1)\n",
        "\n",
        "index.describe_index_stats()"
      ]
    },
    {
      "cell_type": "code",
      "execution_count": null,
      "metadata": {
        "id": "W-cIOoTWGY1R"
      },
      "outputs": [],
      "source": [
        "for batch in dataset.iter_documents(batch_size=100):\n",
        "    index.upsert(batch)"
      ]
    },
    {
      "cell_type": "markdown",
      "source": [
        "To check the number of vectors in our index"
      ],
      "metadata": {
        "id": "AgSiwm26f7mV"
      }
    },
    {
      "cell_type": "code",
      "execution_count": null,
      "metadata": {
        "id": "CaEBhsAM22M3",
        "colab": {
          "base_uri": "https://localhost:8080/"
        },
        "outputId": "9fed04c5-20af-43a9-ff0d-7e44bcb5e72d"
      },
      "outputs": [
        {
          "output_type": "execute_result",
          "data": {
            "text/plain": [
              "{'dimension': 1536,\n",
              " 'index_fullness': 0.30137,\n",
              " 'namespaces': {'': {'vector_count': 30137}},\n",
              " 'total_vector_count': 30137}"
            ]
          },
          "metadata": {},
          "execution_count": 9
        }
      ],
      "source": [
        "index.describe_index_stats()"
      ]
    },
    {
      "cell_type": "markdown",
      "source": [
        "#Creating a Vector Store and Querying"
      ],
      "metadata": {
        "id": "JWY-s7ragPts"
      }
    },
    {
      "cell_type": "code",
      "execution_count": null,
      "metadata": {
        "id": "FvwwQA4qbcK9"
      },
      "outputs": [],
      "source": [
        "from langchain.embeddings.openai import OpenAIEmbeddings\n",
        "\n",
        "# openai api key\n",
        "OPENAI_API_KEY = os.getenv('OPENAI_API_KEY') or 'YOUR_API_KEY'\n",
        "\n",
        "model_name = 'text-embedding-ada-002'\n",
        "\n",
        "embed = OpenAIEmbeddings(\n",
        "    model=model_name,\n",
        "    openai_api_key=OPENAI_API_KEY\n",
        ")"
      ]
    },
    {
      "cell_type": "markdown",
      "source": [
        "initializing the vector store"
      ],
      "metadata": {
        "id": "D9NbfLzghI8P"
      }
    },
    {
      "cell_type": "code",
      "execution_count": null,
      "metadata": {
        "id": "qMXlvXOAyJHy"
      },
      "outputs": [],
      "source": [
        "from langchain.vectorstores import Pinecone\n",
        "\n",
        "text_field = \"text\"\n",
        "\n",
        "# switching back to normal index for langchain\n",
        "index = pinecone.Index(index_name)\n",
        "\n",
        "vectorstore = Pinecone(\n",
        "    index, embed.embed_query, text_field\n",
        ")"
      ]
    },
    {
      "cell_type": "markdown",
      "source": [
        "Query"
      ],
      "metadata": {
        "id": "gjAiBWXvhPft"
      }
    },
    {
      "cell_type": "code",
      "execution_count": null,
      "metadata": {
        "id": "COT5s7hcyPiq",
        "colab": {
          "base_uri": "https://localhost:8080/"
        },
        "outputId": "02420a97-2f6d-4dbe-eea2-d81a3ec1b65c"
      },
      "outputs": [
        {
          "output_type": "execute_result",
          "data": {
            "text/plain": [
              "[Document(page_content=\"as they now come with guaranteed payouts. We present to you, Tata AIA Life Insurance Smart Income Plus,  a limited pay income plan that meets tomorrow's requirements  along with protecting your loved ones and dreams as it ensures  you of guaranteed returns for the money invested. Investment  in  this  plan  helps  you  fulfill  your  medium  to  long  term goals such as Child’s Education/ Marriage/ Business  start-up and Retirement planning. Key Beneﬁts (cid:127)  Flexibility  to  choose  between  Regular  Income  or  Endowment options (cid:127)  Receive Guaranteed Payouts ranging from 120% to 160%  of  the  Annualised  Premium  under  Regular  Income  Option  based upon premium payment term chosen (cid:127)  Pay  for  7/10/12  years,  get  guaranteed  life  cover  for  15/21/25 years (cid:127)  Enhance your protection with optional Riders (cid:127)  Higher benefit for female lives  (cid:127)  Receive  tax  benefits  u/s  80C  and\", metadata={'document_id': 'a5effe1b-3fba-46f5-9e11-a728f5eaa0c8', 'source': 'example.pdf'}),\n",
              " Document(page_content=\"Savings Plan We, at Tata AIA Life, believe in protecting your dreams at various  stages  of  life  without  compromising  on  your  basic  needs  through financial resources. You do not have to think twice to  live your dreams as they now come with guaranteed payouts. We present to you, Tata AIA Life Insurance Smart Income Plus,  a limited pay income plan that meets tomorrow's requirements  along with protecting your loved ones and dreams as it ensures  you of guaranteed returns for the money invested. Investment  in  this  plan  helps  you  fulfill  your  medium  to  long  term goals such as Child’s Education/ Marriage/ Business  start-up and Retirement planning. Key Beneﬁts (cid:127)  Flexibility  to  choose  between  Regular  Income  or  Endowment options (cid:127)  Receive Guaranteed Payouts ranging from 120% to 160%  of  the  Annualised  Premium  under  Regular  Income  Option  based upon premium payment term chosen (cid:127)  Pay  for  7/10/12  years,  get  guaranteed  life  cover  for  15/21/25\", metadata={'document_id': 'a5effe1b-3fba-46f5-9e11-a728f5eaa0c8', 'source': 'example.pdf'}),\n",
              " Document(page_content=\"started operations on April 1, 2001. Disclaimer: (cid:127)  The  brochure  is  not  a  contract  of  insurance.  The  precise  terms and conditions of this plan are specified in the policy  contract available on Tata AIA Life website. (cid:127)  Buying a Life Insurance policy is a long-term commitment.  An  early  termination  of  the  policy  usually  involves  high  costs and the Surrender Value payable may be less than all  the Premiums Paid. Tata AIA Life Insurance Smart Income Plus A Non-Linked, Non-Participating, Individual Life Insurance Savings Plan We, at Tata AIA Life, believe in protecting your dreams at various  stages  of  life  without  compromising  on  your  basic  needs  through financial resources. You do not have to think twice to  live your dreams as they now come with guaranteed payouts. We present to you, Tata AIA Life Insurance Smart Income Plus,  a limited pay income plan that meets tomorrow's requirements  along with protecting your loved ones and dreams as it ensures  you of guaranteed returns for the money invested. Investment  in  this  plan  helps  you\", metadata={'document_id': 'a5effe1b-3fba-46f5-9e11-a728f5eaa0c8', 'source': 'example.pdf'})]"
            ]
          },
          "metadata": {},
          "execution_count": 12
        }
      ],
      "source": [
        "query = \" What are the key benefits of Tata AIA Life Insurance Smart Income Plus?\"\n",
        "\n",
        "vectorstore.similarity_search(\n",
        "    query,  # our search query\n",
        "    k=3  # return 3 most relevant docs\n",
        ")"
      ]
    },
    {
      "cell_type": "markdown",
      "source": [
        "#Generative Q-A"
      ],
      "metadata": {
        "id": "EllbL6Pjgds1"
      }
    },
    {
      "cell_type": "code",
      "execution_count": null,
      "metadata": {
        "id": "moCvQR-p0Zsb"
      },
      "outputs": [],
      "source": [
        "from langchain.chat_models import ChatOpenAI\n",
        "from langchain.chains import RetrievalQA\n",
        "\n",
        "# completion llm\n",
        "llm = ChatOpenAI(\n",
        "    openai_api_key=OPENAI_API_KEY,\n",
        "    model_name='gpt-3.5-turbo',\n",
        "    temperature=0.0\n",
        ")\n",
        "\n",
        "qa = RetrievalQA.from_chain_type(\n",
        "    llm=llm,\n",
        "    chain_type=\"stuff\",\n",
        "    retriever=vectorstore.as_retriever()\n",
        ")"
      ]
    },
    {
      "cell_type": "code",
      "execution_count": null,
      "metadata": {
        "id": "KS9sa19K3LkQ",
        "colab": {
          "base_uri": "https://localhost:8080/",
          "height": 70
        },
        "outputId": "f3187140-edc4-4255-92bb-926de9951dea"
      },
      "outputs": [
        {
          "output_type": "execute_result",
          "data": {
            "text/plain": [
              "'The key benefits of Tata AIA Life Insurance Smart Income Plus are:\\n\\n1. Flexibility to choose between Regular Income or Endowment options.\\n2. Guaranteed Payouts ranging from 120% to 160% of the Annualised Premium under the Regular Income Option based upon the premium payment term chosen.\\n3. Pay for 7/10/12 years and get guaranteed life cover for 15/21/25 years.\\n4. Optional Riders to enhance your protection.\\n5. Higher benefit for female lives.\\n6. Tax benefits under section 80C.'"
            ],
            "application/vnd.google.colaboratory.intrinsic+json": {
              "type": "string"
            }
          },
          "metadata": {},
          "execution_count": 14
        }
      ],
      "source": [
        "qa.run(query)"
      ]
    },
    {
      "cell_type": "markdown",
      "source": [
        "#Included the sources of information"
      ],
      "metadata": {
        "id": "Q0MLH68QgteI"
      }
    },
    {
      "cell_type": "code",
      "execution_count": null,
      "metadata": {
        "id": "aYVMGDA13cTz"
      },
      "outputs": [],
      "source": [
        "from langchain.chains import RetrievalQAWithSourcesChain\n",
        "\n",
        "qa_with_sources = RetrievalQAWithSourcesChain.from_chain_type(\n",
        "    llm=llm,\n",
        "    chain_type=\"stuff\",\n",
        "    retriever=vectorstore.as_retriever()\n",
        ")"
      ]
    },
    {
      "cell_type": "code",
      "execution_count": null,
      "metadata": {
        "id": "RXsVEh3S4ZJO",
        "colab": {
          "base_uri": "https://localhost:8080/"
        },
        "outputId": "42727ae9-9cf5-472e-d4d5-edb2d6fd59a3"
      },
      "outputs": [
        {
          "output_type": "execute_result",
          "data": {
            "text/plain": [
              "{'question': ' What are the key benefits of Tata AIA Life Insurance Smart Income Plus?',\n",
              " 'answer': 'The key benefits of Tata AIA Life Insurance Smart Income Plus include flexibility to choose between Regular Income or Endowment options, guaranteed payouts ranging from 120% to 160% of the Annualised Premium, guaranteed life cover for 15/21/25 years, optional Riders for enhanced protection, higher benefit for female lives, and tax benefits under section 80C. \\n',\n",
              " 'sources': 'example.pdf'}"
            ]
          },
          "metadata": {},
          "execution_count": 16
        }
      ],
      "source": [
        "qa_with_sources(query)"
      ]
    }
  ]
}